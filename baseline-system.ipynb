{
 "cells": [
  {
   "cell_type": "markdown",
   "metadata": {},
   "source": [
    "### Definition of ERICs\n",
    "ERICs are characterized by argumentative, respectful exchanges containing persuasive, informative, and/or sympathetic comments. They tend to stay on topic with the original article and not to contain funny, mean, or sarcastic comments. We found differences between the distribution of annotations made by trained and untrained anno- tators, but high levels of agreement within each group, suggesting that crowdsourcing annotations for this task is reliable."
   ]
  },
  {
   "cell_type": "code",
   "execution_count": 6,
   "metadata": {},
   "outputs": [],
   "source": [
    "import logging\n",
    "import pandas as pd\n",
    "import numpy as np\n",
    "from numpy import random\n",
    "import nltk\n",
    "from sklearn.model_selection import train_test_split\n",
    "from sklearn.feature_extraction.text import CountVectorizer, TfidfVectorizer\n",
    "from sklearn.metrics import accuracy_score, confusion_matrix\n",
    "import matplotlib.pyplot as plt\n",
    "from nltk.corpus import stopwords\n",
    "import re\n",
    "\n"
   ]
  },
  {
   "cell_type": "code",
   "execution_count": 79,
   "metadata": {},
   "outputs": [
    {
     "data": {
      "text/html": [
       "<div>\n",
       "<style scoped>\n",
       "    .dataframe tbody tr th:only-of-type {\n",
       "        vertical-align: middle;\n",
       "    }\n",
       "\n",
       "    .dataframe tbody tr th {\n",
       "        vertical-align: top;\n",
       "    }\n",
       "\n",
       "    .dataframe thead th {\n",
       "        text-align: right;\n",
       "    }\n",
       "</style>\n",
       "<table border=\"1\" class=\"dataframe\">\n",
       "  <thead>\n",
       "    <tr style=\"text-align: right;\">\n",
       "      <th></th>\n",
       "      <th>text</th>\n",
       "      <th>constructiveclass</th>\n",
       "      <th>sd_agreement</th>\n",
       "      <th>sd_type</th>\n",
       "      <th>sentiment</th>\n",
       "      <th>tone</th>\n",
       "      <th>commentagreement</th>\n",
       "      <th>topic</th>\n",
       "      <th>persuasiveness</th>\n",
       "    </tr>\n",
       "  </thead>\n",
       "  <tbody>\n",
       "    <tr>\n",
       "      <th>0</th>\n",
       "      <td>These things happen , Every job has its dangers.</td>\n",
       "      <td>Constructive</td>\n",
       "      <td>NaN</td>\n",
       "      <td>Positive/respectful</td>\n",
       "      <td>negative</td>\n",
       "      <td>NaN</td>\n",
       "      <td>Disagreement with commenter</td>\n",
       "      <td>Off-topic with article</td>\n",
       "      <td>Not persuasive</td>\n",
       "    </tr>\n",
       "    <tr>\n",
       "      <th>1</th>\n",
       "      <td>Sad to hear such a bad thing. Very dangerous j...</td>\n",
       "      <td>Constructive</td>\n",
       "      <td>NaN</td>\n",
       "      <td>Positive/respectful</td>\n",
       "      <td>mixed</td>\n",
       "      <td>NaN</td>\n",
       "      <td>NaN</td>\n",
       "      <td>Off-topic with article</td>\n",
       "      <td>Not persuasive</td>\n",
       "    </tr>\n",
       "    <tr>\n",
       "      <th>2</th>\n",
       "      <td>Yes..because too many houses in EU look like t...</td>\n",
       "      <td>Constructive</td>\n",
       "      <td>NaN</td>\n",
       "      <td>Positive/respectful</td>\n",
       "      <td>neutral</td>\n",
       "      <td>Informative</td>\n",
       "      <td>NaN</td>\n",
       "      <td>Off-topic with article</td>\n",
       "      <td>Not persuasive</td>\n",
       "    </tr>\n",
       "    <tr>\n",
       "      <th>3</th>\n",
       "      <td>I am frankly quite SICK of the phrase \"shoved ...</td>\n",
       "      <td>Not constructive</td>\n",
       "      <td>Agreement throughout</td>\n",
       "      <td>Off-topic/digression</td>\n",
       "      <td>negative</td>\n",
       "      <td>Mean</td>\n",
       "      <td>NaN</td>\n",
       "      <td>Off-topic with article</td>\n",
       "      <td>Persuasive</td>\n",
       "    </tr>\n",
       "    <tr>\n",
       "      <th>4</th>\n",
       "      <td>Ya, I always wonder why the conservatives are ...</td>\n",
       "      <td>Not constructive</td>\n",
       "      <td>Agreement throughout</td>\n",
       "      <td>Off-topic/digression</td>\n",
       "      <td>neutral</td>\n",
       "      <td>Sarcastic</td>\n",
       "      <td>Agreement with commenter</td>\n",
       "      <td>Off-topic with article</td>\n",
       "      <td>Not persuasive</td>\n",
       "    </tr>\n",
       "  </tbody>\n",
       "</table>\n",
       "</div>"
      ],
      "text/plain": [
       "                                                text constructiveclass  \\\n",
       "0   These things happen , Every job has its dangers.      Constructive   \n",
       "1  Sad to hear such a bad thing. Very dangerous j...      Constructive   \n",
       "2  Yes..because too many houses in EU look like t...      Constructive   \n",
       "3  I am frankly quite SICK of the phrase \"shoved ...  Not constructive   \n",
       "4  Ya, I always wonder why the conservatives are ...  Not constructive   \n",
       "\n",
       "           sd_agreement               sd_type sentiment         tone  \\\n",
       "0                   NaN   Positive/respectful  negative          NaN   \n",
       "1                   NaN   Positive/respectful     mixed          NaN   \n",
       "2                   NaN   Positive/respectful   neutral  Informative   \n",
       "3  Agreement throughout  Off-topic/digression  negative         Mean   \n",
       "4  Agreement throughout  Off-topic/digression   neutral    Sarcastic   \n",
       "\n",
       "              commentagreement                   topic  persuasiveness  \n",
       "0  Disagreement with commenter  Off-topic with article  Not persuasive  \n",
       "1                          NaN  Off-topic with article  Not persuasive  \n",
       "2                          NaN  Off-topic with article  Not persuasive  \n",
       "3                          NaN  Off-topic with article      Persuasive  \n",
       "4     Agreement with commenter  Off-topic with article  Not persuasive  "
      ]
     },
     "execution_count": 79,
     "metadata": {},
     "output_type": "execute_result"
    }
   ],
   "source": [
    "df = pd.read_csv('./data/yahoodata/ydata-ynacc-v1_0_expert_annotations.tsv',sep='\\t')\n",
    "df.drop(columns=['sdid','commentindex','headline','url','guid','commentid','timestamp','thumbs-up','thumbs-down',\n",
    "                'parentid','intendedaudience'],inplace=True)\n",
    "df.head()\n"
   ]
  },
  {
   "cell_type": "code",
   "execution_count": 85,
   "metadata": {},
   "outputs": [
    {
     "data": {
      "text/plain": [
       "Off-topic with article                                               6909\n",
       "Personal story                                                       1412\n",
       "Off-topic with conversation,Off-topic with article                    847\n",
       "Off-topic with conversation                                           365\n",
       "Off-topic with article,Personal story                                 164\n",
       "Off-topic with article,NA                                              77\n",
       "Personal story,NA                                                      73\n",
       "Off-topic with conversation,NA                                         26\n",
       "Off-topic with conversation,Off-topic with article,Personal story      14\n",
       "Off-topic with conversation,Personal story                             10\n",
       "Off-topic with conversation,Off-topic with article,NA                   4\n",
       "Off-topic with article,Personal story,NA                                1\n",
       "Name: topic, dtype: int64"
      ]
     },
     "execution_count": 85,
     "metadata": {},
     "output_type": "execute_result"
    }
   ],
   "source": [
    "df.topic.value_counts()"
   ]
  },
  {
   "cell_type": "code",
   "execution_count": 84,
   "metadata": {},
   "outputs": [
    {
     "data": {
      "text/plain": [
       "'I know this was probably the best thing that ever happened to the boy but let me give you guys a warning... As awesome as it would be to bang your hot teacher there is a big downside. Here it goes... Yes, if the relationship is found out she\\'ll go away and you\\'ll be treated like a victim BUT if she gets preggo? The state will start billing you for child support when you turn 18 (if the chick asks for it). That\\'s right, your big \"victimization?\" Well, the state will add insult to (legal) injury. And you don\\'t want to be paying 18 years of child support from 18 years old so I suggest that you, at least, keep some condoms handy the next time you feel like being... a \"victim.\" LOL!'"
      ]
     },
     "execution_count": 84,
     "metadata": {},
     "output_type": "execute_result"
    }
   ],
   "source": [
    "df[df.tone == 'Informative'].iloc[1].text"
   ]
  },
  {
   "cell_type": "code",
   "execution_count": 91,
   "metadata": {},
   "outputs": [
    {
     "data": {
      "text/plain": [
       "Index(['sdid', 'commentindex', 'headline', 'url', 'guid', 'commentid',\n",
       "       'timestamp', 'thumbs-up', 'thumbs-down', 'text', 'parentid',\n",
       "       'constructiveclass', 'sd_agreement', 'sd_type'],\n",
       "      dtype='object')"
      ]
     },
     "execution_count": 91,
     "metadata": {},
     "output_type": "execute_result"
    }
   ],
   "source": [
    "iac = pd.read_csv('./data/yahoodata/ydata-ynacc-v1_0_IAC_annotations.tsv',sep='\\t')\n",
    "turk = pd.read_csv('./data/yahoodata/ydata-ynacc-v1_0_turk_annotations.tsv',sep='\\t')\n",
    "turk.columns"
   ]
  },
  {
   "cell_type": "code",
   "execution_count": null,
   "metadata": {},
   "outputs": [],
   "source": []
  },
  {
   "cell_type": "code",
   "execution_count": null,
   "metadata": {},
   "outputs": [],
   "source": [
    "# Transform each text into a vector of word counts\n",
    "vectorizer = CountVectorizer(stop_words=\"english\")\n",
    "\n",
    "training_features = vectorizer.fit_transform(train_data[\"text\"])    \n",
    "test_features = vectorizer.transform(test_data[\"text\"])\n",
    "\n",
    "# Training\n",
    "model = LinearSVC()\n",
    "model.fit(training_features, train_data[\"sentiment\"])\n",
    "y_pred = model.predict(test_features)\n",
    "\n",
    "# Evaluation\n",
    "acc = accuracy_score(test_data[\"sentiment\"], y_pred)\n",
    "\n",
    "print(\"Accuracy on the IMDB dataset: {:.2f}\".format(acc*100))"
   ]
  },
  {
   "cell_type": "code",
   "execution_count": 29,
   "metadata": {},
   "outputs": [
    {
     "data": {
      "text/plain": [
       "3823     And the last excuse your #$%$ had.....because ...\n",
       "23232    Not sure why you think the battery will only l...\n",
       "12771    I think what @USERNAME is saying is that the m...\n",
       "11947    I think these are general statements. My femal...\n",
       "3342     No, not all \"good\" PR. I am sure they will los...\n",
       "                               ...                        \n",
       "19731    WHAT????  Oh Simpleton.  Never mind self expla...\n",
       "21259    Newsflash idiot, 99.99% of the black race vote...\n",
       "19057    People back then were lucky to live past 30. @...\n",
       "6722     remember it is the criminal doing most gun vio...\n",
       "12981    The Doobie Brothers? Why not Hootie and the Bl...\n",
       "Name: text, Length: 1509, dtype: object"
      ]
     },
     "execution_count": 29,
     "metadata": {},
     "output_type": "execute_result"
    }
   ],
   "source": [
    "X = df.text\n",
    "y = df.sentiment\n",
    "X_train, X_test, y_train, y_test = train_test_split(X, y, test_size=0.3, random_state = 42)\n"
   ]
  },
  {
   "cell_type": "code",
   "execution_count": 31,
   "metadata": {},
   "outputs": [
    {
     "data": {
      "text/plain": [
       "array(['negative', 'negative', 'negative', ..., 'negative', 'negative',\n",
       "       'negative'], dtype='<U8')"
      ]
     },
     "execution_count": 31,
     "metadata": {},
     "output_type": "execute_result"
    }
   ],
   "source": []
  },
  {
   "cell_type": "code",
   "execution_count": null,
   "metadata": {},
   "outputs": [],
   "source": []
  }
 ],
 "metadata": {
  "kernelspec": {
   "display_name": "Python 3",
   "language": "python",
   "name": "python3"
  },
  "language_info": {
   "codemirror_mode": {
    "name": "ipython",
    "version": 3
   },
   "file_extension": ".py",
   "mimetype": "text/x-python",
   "name": "python",
   "nbconvert_exporter": "python",
   "pygments_lexer": "ipython3",
   "version": "3.8.1"
  }
 },
 "nbformat": 4,
 "nbformat_minor": 2
}
